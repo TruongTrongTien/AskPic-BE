{
 "cells": [
  {
   "cell_type": "code",
   "execution_count": 1,
   "metadata": {},
   "outputs": [],
   "source": [
    "from dotenv import load_dotenv\n",
    "import os\n",
    "\n",
    "load_dotenv()\n",
    "os.environ['GOOGLE_API_KEY'] = os.getenv('GOOGLE_API_KEY')\n",
    "GOOGLE_API_KEY = os.environ.get(\"GOOGLE_API_KEY\")"
   ]
  },
  {
   "cell_type": "code",
   "execution_count": 3,
   "metadata": {},
   "outputs": [
    {
     "name": "stdout",
     "output_type": "stream",
     "text": [
      "Collecting google-generativeai\n",
      "  Using cached google_generativeai-0.6.0-py3-none-any.whl.metadata (3.9 kB)\n",
      "Collecting google-ai-generativelanguage==0.6.4 (from google-generativeai)\n",
      "  Using cached google_ai_generativelanguage-0.6.4-py3-none-any.whl.metadata (5.6 kB)\n",
      "Collecting google-api-core (from google-generativeai)\n",
      "  Using cached google_api_core-2.19.0-py3-none-any.whl.metadata (2.7 kB)\n",
      "Collecting google-api-python-client (from google-generativeai)\n",
      "  Downloading google_api_python_client-2.133.0-py2.py3-none-any.whl.metadata (6.7 kB)\n",
      "Collecting google-auth>=2.15.0 (from google-generativeai)\n",
      "  Using cached google_auth-2.30.0-py2.py3-none-any.whl.metadata (4.7 kB)\n",
      "Collecting protobuf (from google-generativeai)\n",
      "  Using cached protobuf-5.27.1-cp310-abi3-win_amd64.whl.metadata (592 bytes)\n",
      "Collecting pydantic (from google-generativeai)\n",
      "  Downloading pydantic-2.7.4-py3-none-any.whl.metadata (109 kB)\n",
      "     ---------------------------------------- 0.0/109.4 kB ? eta -:--:--\n",
      "     ---------- ---------------------------- 30.7/109.4 kB 1.3 MB/s eta 0:00:01\n",
      "     ------------- ----------------------- 41.0/109.4 kB 991.0 kB/s eta 0:00:01\n",
      "     --------------------------------- -- 102.4/109.4 kB 980.4 kB/s eta 0:00:01\n",
      "     ------------------------------------ 109.4/109.4 kB 910.0 kB/s eta 0:00:00\n",
      "Collecting tqdm (from google-generativeai)\n",
      "  Using cached tqdm-4.66.4-py3-none-any.whl.metadata (57 kB)\n",
      "Requirement already satisfied: typing-extensions in d:\\fptu\\askpic-poc\\.venv\\lib\\site-packages (from google-generativeai) (4.12.2)\n",
      "Collecting proto-plus<2.0.0dev,>=1.22.3 (from google-ai-generativelanguage==0.6.4->google-generativeai)\n",
      "  Using cached proto_plus-1.23.0-py3-none-any.whl.metadata (2.2 kB)\n",
      "Collecting protobuf (from google-generativeai)\n",
      "  Using cached protobuf-4.25.3-cp310-abi3-win_amd64.whl.metadata (541 bytes)\n",
      "Collecting googleapis-common-protos<2.0.dev0,>=1.56.2 (from google-api-core->google-generativeai)\n",
      "  Using cached googleapis_common_protos-1.63.1-py2.py3-none-any.whl.metadata (1.5 kB)\n",
      "Collecting requests<3.0.0.dev0,>=2.18.0 (from google-api-core->google-generativeai)\n",
      "  Using cached requests-2.32.3-py3-none-any.whl.metadata (4.6 kB)\n",
      "Collecting cachetools<6.0,>=2.0.0 (from google-auth>=2.15.0->google-generativeai)\n",
      "  Using cached cachetools-5.3.3-py3-none-any.whl.metadata (5.3 kB)\n",
      "Collecting pyasn1-modules>=0.2.1 (from google-auth>=2.15.0->google-generativeai)\n",
      "  Using cached pyasn1_modules-0.4.0-py3-none-any.whl.metadata (3.4 kB)\n",
      "Collecting rsa<5,>=3.1.4 (from google-auth>=2.15.0->google-generativeai)\n",
      "  Using cached rsa-4.9-py3-none-any.whl.metadata (4.2 kB)\n",
      "Collecting httplib2<1.dev0,>=0.19.0 (from google-api-python-client->google-generativeai)\n",
      "  Using cached httplib2-0.22.0-py3-none-any.whl.metadata (2.6 kB)\n",
      "Collecting google-auth-httplib2<1.0.0,>=0.2.0 (from google-api-python-client->google-generativeai)\n",
      "  Using cached google_auth_httplib2-0.2.0-py2.py3-none-any.whl.metadata (2.2 kB)\n",
      "Collecting uritemplate<5,>=3.0.1 (from google-api-python-client->google-generativeai)\n",
      "  Using cached uritemplate-4.1.1-py2.py3-none-any.whl.metadata (2.9 kB)\n",
      "Collecting annotated-types>=0.4.0 (from pydantic->google-generativeai)\n",
      "  Using cached annotated_types-0.7.0-py3-none-any.whl.metadata (15 kB)\n",
      "Collecting pydantic-core==2.18.4 (from pydantic->google-generativeai)\n",
      "  Using cached pydantic_core-2.18.4-cp310-none-win_amd64.whl.metadata (6.7 kB)\n",
      "Requirement already satisfied: colorama in d:\\fptu\\askpic-poc\\.venv\\lib\\site-packages (from tqdm->google-generativeai) (0.4.6)\n",
      "Collecting grpcio<2.0dev,>=1.33.2 (from google-api-core[grpc]!=2.0.*,!=2.1.*,!=2.10.*,!=2.2.*,!=2.3.*,!=2.4.*,!=2.5.*,!=2.6.*,!=2.7.*,!=2.8.*,!=2.9.*,<3.0.0dev,>=1.34.1->google-ai-generativelanguage==0.6.4->google-generativeai)\n",
      "  Using cached grpcio-1.64.1-cp310-cp310-win_amd64.whl.metadata (3.4 kB)\n",
      "Collecting grpcio-status<2.0.dev0,>=1.33.2 (from google-api-core[grpc]!=2.0.*,!=2.1.*,!=2.10.*,!=2.2.*,!=2.3.*,!=2.4.*,!=2.5.*,!=2.6.*,!=2.7.*,!=2.8.*,!=2.9.*,<3.0.0dev,>=1.34.1->google-ai-generativelanguage==0.6.4->google-generativeai)\n",
      "  Using cached grpcio_status-1.64.1-py3-none-any.whl.metadata (1.1 kB)\n",
      "Collecting pyparsing!=3.0.0,!=3.0.1,!=3.0.2,!=3.0.3,<4,>=2.4.2 (from httplib2<1.dev0,>=0.19.0->google-api-python-client->google-generativeai)\n",
      "  Using cached pyparsing-3.1.2-py3-none-any.whl.metadata (5.1 kB)\n",
      "Collecting pyasn1<0.7.0,>=0.4.6 (from pyasn1-modules>=0.2.1->google-auth>=2.15.0->google-generativeai)\n",
      "  Using cached pyasn1-0.6.0-py2.py3-none-any.whl.metadata (8.3 kB)\n",
      "Collecting charset-normalizer<4,>=2 (from requests<3.0.0.dev0,>=2.18.0->google-api-core->google-generativeai)\n",
      "  Using cached charset_normalizer-3.3.2-cp310-cp310-win_amd64.whl.metadata (34 kB)\n",
      "Collecting idna<4,>=2.5 (from requests<3.0.0.dev0,>=2.18.0->google-api-core->google-generativeai)\n",
      "  Using cached idna-3.7-py3-none-any.whl.metadata (9.9 kB)\n",
      "Collecting urllib3<3,>=1.21.1 (from requests<3.0.0.dev0,>=2.18.0->google-api-core->google-generativeai)\n",
      "  Downloading urllib3-2.2.2-py3-none-any.whl.metadata (6.4 kB)\n",
      "Collecting certifi>=2017.4.17 (from requests<3.0.0.dev0,>=2.18.0->google-api-core->google-generativeai)\n",
      "  Using cached certifi-2024.6.2-py3-none-any.whl.metadata (2.2 kB)\n",
      "INFO: pip is looking at multiple versions of grpcio-status to determine which version is compatible with other requirements. This could take a while.\n",
      "Collecting grpcio-status<2.0.dev0,>=1.33.2 (from google-api-core[grpc]!=2.0.*,!=2.1.*,!=2.10.*,!=2.2.*,!=2.3.*,!=2.4.*,!=2.5.*,!=2.6.*,!=2.7.*,!=2.8.*,!=2.9.*,<3.0.0dev,>=1.34.1->google-ai-generativelanguage==0.6.4->google-generativeai)\n",
      "  Using cached grpcio_status-1.64.0-py3-none-any.whl.metadata (1.1 kB)\n",
      "  Using cached grpcio_status-1.63.0-py3-none-any.whl.metadata (1.1 kB)\n",
      "  Using cached grpcio_status-1.62.2-py3-none-any.whl.metadata (1.3 kB)\n",
      "Using cached google_generativeai-0.6.0-py3-none-any.whl (158 kB)\n",
      "Using cached google_ai_generativelanguage-0.6.4-py3-none-any.whl (679 kB)\n",
      "Using cached google_api_core-2.19.0-py3-none-any.whl (139 kB)\n",
      "Using cached google_auth-2.30.0-py2.py3-none-any.whl (193 kB)\n",
      "Using cached protobuf-4.25.3-cp310-abi3-win_amd64.whl (413 kB)\n",
      "Downloading google_api_python_client-2.133.0-py2.py3-none-any.whl (11.8 MB)\n",
      "   ---------------------------------------- 0.0/11.8 MB ? eta -:--:--\n",
      "   ---------------------------------------- 0.0/11.8 MB 1.3 MB/s eta 0:00:10\n",
      "   ---------------------------------------- 0.1/11.8 MB 1.1 MB/s eta 0:00:12\n",
      "    --------------------------------------- 0.2/11.8 MB 1.5 MB/s eta 0:00:08\n",
      "    --------------------------------------- 0.2/11.8 MB 1.4 MB/s eta 0:00:09\n",
      "    --------------------------------------- 0.3/11.8 MB 1.2 MB/s eta 0:00:10\n",
      "   - -------------------------------------- 0.3/11.8 MB 1.1 MB/s eta 0:00:11\n",
      "   - -------------------------------------- 0.4/11.8 MB 1.3 MB/s eta 0:00:09\n",
      "   - -------------------------------------- 0.5/11.8 MB 1.3 MB/s eta 0:00:09\n",
      "   - -------------------------------------- 0.5/11.8 MB 1.3 MB/s eta 0:00:09\n",
      "   -- ------------------------------------- 0.6/11.8 MB 1.3 MB/s eta 0:00:09\n",
      "   -- ------------------------------------- 0.7/11.8 MB 1.4 MB/s eta 0:00:08\n",
      "   -- ------------------------------------- 0.8/11.8 MB 1.6 MB/s eta 0:00:07\n",
      "   --- ------------------------------------ 0.9/11.8 MB 1.6 MB/s eta 0:00:07\n",
      "   --- ------------------------------------ 1.1/11.8 MB 1.7 MB/s eta 0:00:07\n",
      "   ---- ----------------------------------- 1.2/11.8 MB 1.8 MB/s eta 0:00:07\n",
      "   ---- ----------------------------------- 1.2/11.8 MB 1.7 MB/s eta 0:00:07\n",
      "   ---- ----------------------------------- 1.3/11.8 MB 1.7 MB/s eta 0:00:07\n",
      "   ---- ----------------------------------- 1.4/11.8 MB 1.7 MB/s eta 0:00:07\n",
      "   ----- ---------------------------------- 1.5/11.8 MB 1.8 MB/s eta 0:00:06\n",
      "   ----- ---------------------------------- 1.6/11.8 MB 1.8 MB/s eta 0:00:06\n",
      "   ------ --------------------------------- 1.8/11.8 MB 1.9 MB/s eta 0:00:06\n",
      "   ------ --------------------------------- 1.9/11.8 MB 1.9 MB/s eta 0:00:06\n",
      "   ------ --------------------------------- 2.1/11.8 MB 2.0 MB/s eta 0:00:05\n",
      "   ------- -------------------------------- 2.2/11.8 MB 2.0 MB/s eta 0:00:05\n",
      "   ------- -------------------------------- 2.3/11.8 MB 2.0 MB/s eta 0:00:05\n",
      "   -------- ------------------------------- 2.4/11.8 MB 2.0 MB/s eta 0:00:05\n",
      "   -------- ------------------------------- 2.5/11.8 MB 2.0 MB/s eta 0:00:05\n",
      "   -------- ------------------------------- 2.6/11.8 MB 2.0 MB/s eta 0:00:05\n",
      "   --------- ------------------------------ 2.7/11.8 MB 2.0 MB/s eta 0:00:05\n",
      "   --------- ------------------------------ 2.8/11.8 MB 2.1 MB/s eta 0:00:05\n",
      "   ---------- ----------------------------- 3.0/11.8 MB 2.1 MB/s eta 0:00:05\n",
      "   ---------- ----------------------------- 3.1/11.8 MB 2.1 MB/s eta 0:00:05\n",
      "   ---------- ----------------------------- 3.2/11.8 MB 2.1 MB/s eta 0:00:05\n",
      "   ----------- ---------------------------- 3.4/11.8 MB 2.2 MB/s eta 0:00:04\n",
      "   ----------- ---------------------------- 3.5/11.8 MB 2.2 MB/s eta 0:00:04\n",
      "   ------------ --------------------------- 3.6/11.8 MB 2.2 MB/s eta 0:00:04\n",
      "   ------------ --------------------------- 3.7/11.8 MB 2.2 MB/s eta 0:00:04\n",
      "   ------------- -------------------------- 3.8/11.8 MB 2.2 MB/s eta 0:00:04\n",
      "   ------------- -------------------------- 3.9/11.8 MB 2.2 MB/s eta 0:00:04\n",
      "   -------------- ------------------------- 4.1/11.8 MB 2.3 MB/s eta 0:00:04\n",
      "   -------------- ------------------------- 4.3/11.8 MB 2.3 MB/s eta 0:00:04\n",
      "   --------------- ------------------------ 4.5/11.8 MB 2.3 MB/s eta 0:00:04\n",
      "   --------------- ------------------------ 4.6/11.8 MB 2.4 MB/s eta 0:00:04\n",
      "   ---------------- ----------------------- 4.8/11.8 MB 2.4 MB/s eta 0:00:03\n",
      "   ---------------- ----------------------- 4.9/11.8 MB 2.4 MB/s eta 0:00:03\n",
      "   ----------------- ---------------------- 5.0/11.8 MB 2.4 MB/s eta 0:00:03\n",
      "   ----------------- ---------------------- 5.1/11.8 MB 2.4 MB/s eta 0:00:03\n",
      "   ----------------- ---------------------- 5.2/11.8 MB 2.4 MB/s eta 0:00:03\n",
      "   ------------------ --------------------- 5.4/11.8 MB 2.4 MB/s eta 0:00:03\n",
      "   ------------------ --------------------- 5.6/11.8 MB 2.4 MB/s eta 0:00:03\n",
      "   ------------------- -------------------- 5.7/11.8 MB 2.5 MB/s eta 0:00:03\n",
      "   -------------------- ------------------- 5.9/11.8 MB 2.5 MB/s eta 0:00:03\n",
      "   -------------------- ------------------- 6.0/11.8 MB 2.5 MB/s eta 0:00:03\n",
      "   --------------------- ------------------ 6.2/11.8 MB 2.5 MB/s eta 0:00:03\n",
      "   --------------------- ------------------ 6.4/11.8 MB 2.5 MB/s eta 0:00:03\n",
      "   ---------------------- ----------------- 6.6/11.8 MB 2.6 MB/s eta 0:00:03\n",
      "   ----------------------- ---------------- 6.8/11.8 MB 2.6 MB/s eta 0:00:02\n",
      "   ----------------------- ---------------- 6.9/11.8 MB 2.6 MB/s eta 0:00:02\n",
      "   ------------------------ --------------- 7.1/11.8 MB 2.6 MB/s eta 0:00:02\n",
      "   ------------------------ --------------- 7.3/11.8 MB 2.7 MB/s eta 0:00:02\n",
      "   ------------------------- -------------- 7.5/11.8 MB 2.7 MB/s eta 0:00:02\n",
      "   -------------------------- ------------- 7.7/11.8 MB 2.7 MB/s eta 0:00:02\n",
      "   -------------------------- ------------- 7.9/11.8 MB 2.7 MB/s eta 0:00:02\n",
      "   --------------------------- ------------ 8.0/11.8 MB 2.7 MB/s eta 0:00:02\n",
      "   --------------------------- ------------ 8.2/11.8 MB 2.7 MB/s eta 0:00:02\n",
      "   ---------------------------- ----------- 8.3/11.8 MB 2.7 MB/s eta 0:00:02\n",
      "   ---------------------------- ----------- 8.4/11.8 MB 2.7 MB/s eta 0:00:02\n",
      "   ---------------------------- ----------- 8.5/11.8 MB 2.7 MB/s eta 0:00:02\n",
      "   ----------------------------- ---------- 8.6/11.8 MB 2.7 MB/s eta 0:00:02\n",
      "   ----------------------------- ---------- 8.8/11.8 MB 2.7 MB/s eta 0:00:02\n",
      "   ------------------------------ --------- 8.9/11.8 MB 2.7 MB/s eta 0:00:02\n",
      "   ------------------------------- -------- 9.1/11.8 MB 2.8 MB/s eta 0:00:01\n",
      "   ------------------------------- -------- 9.2/11.8 MB 2.8 MB/s eta 0:00:01\n",
      "   ------------------------------- -------- 9.3/11.8 MB 2.7 MB/s eta 0:00:01\n",
      "   -------------------------------- ------- 9.5/11.8 MB 2.7 MB/s eta 0:00:01\n",
      "   -------------------------------- ------- 9.7/11.8 MB 2.8 MB/s eta 0:00:01\n",
      "   --------------------------------- ------ 9.8/11.8 MB 2.8 MB/s eta 0:00:01\n",
      "   --------------------------------- ------ 10.0/11.8 MB 2.8 MB/s eta 0:00:01\n",
      "   ---------------------------------- ----- 10.2/11.8 MB 2.8 MB/s eta 0:00:01\n",
      "   ----------------------------------- ---- 10.3/11.8 MB 2.8 MB/s eta 0:00:01\n",
      "   ----------------------------------- ---- 10.4/11.8 MB 2.8 MB/s eta 0:00:01\n",
      "   ----------------------------------- ---- 10.4/11.8 MB 2.8 MB/s eta 0:00:01\n",
      "   ----------------------------------- ---- 10.4/11.8 MB 2.8 MB/s eta 0:00:01\n",
      "   ------------------------------------ --- 10.6/11.8 MB 2.9 MB/s eta 0:00:01\n",
      "   ------------------------------------ --- 10.8/11.8 MB 2.9 MB/s eta 0:00:01\n",
      "   ------------------------------------ --- 10.8/11.8 MB 2.9 MB/s eta 0:00:01\n",
      "   ------------------------------------- -- 10.9/11.8 MB 2.9 MB/s eta 0:00:01\n",
      "   ------------------------------------- -- 11.0/11.8 MB 2.9 MB/s eta 0:00:01\n",
      "   ------------------------------------- -- 11.1/11.8 MB 2.9 MB/s eta 0:00:01\n",
      "   -------------------------------------- - 11.2/11.8 MB 2.9 MB/s eta 0:00:01\n",
      "   -------------------------------------- - 11.4/11.8 MB 2.9 MB/s eta 0:00:01\n",
      "   ---------------------------------------  11.6/11.8 MB 3.0 MB/s eta 0:00:01\n",
      "   ---------------------------------------  11.7/11.8 MB 3.0 MB/s eta 0:00:01\n",
      "   ---------------------------------------- 11.8/11.8 MB 3.0 MB/s eta 0:00:00\n",
      "Downloading pydantic-2.7.4-py3-none-any.whl (409 kB)\n",
      "   ---------------------------------------- 0.0/409.0 kB ? eta -:--:--\n",
      "   ------------------- -------------------- 194.6/409.0 kB 5.9 MB/s eta 0:00:01\n",
      "   --------------------------------- ------ 337.9/409.0 kB 3.5 MB/s eta 0:00:01\n",
      "   ------------------------------------- -- 378.9/409.0 kB 2.9 MB/s eta 0:00:01\n",
      "   ---------------------------------------- 409.0/409.0 kB 2.6 MB/s eta 0:00:00\n",
      "Using cached pydantic_core-2.18.4-cp310-none-win_amd64.whl (1.9 MB)\n",
      "Using cached tqdm-4.66.4-py3-none-any.whl (78 kB)\n",
      "Using cached annotated_types-0.7.0-py3-none-any.whl (13 kB)\n",
      "Using cached cachetools-5.3.3-py3-none-any.whl (9.3 kB)\n",
      "Using cached google_auth_httplib2-0.2.0-py2.py3-none-any.whl (9.3 kB)\n",
      "Using cached googleapis_common_protos-1.63.1-py2.py3-none-any.whl (229 kB)\n",
      "Using cached httplib2-0.22.0-py3-none-any.whl (96 kB)\n",
      "Using cached proto_plus-1.23.0-py3-none-any.whl (48 kB)\n",
      "Using cached pyasn1_modules-0.4.0-py3-none-any.whl (181 kB)\n",
      "Using cached requests-2.32.3-py3-none-any.whl (64 kB)\n",
      "Using cached rsa-4.9-py3-none-any.whl (34 kB)\n",
      "Using cached uritemplate-4.1.1-py2.py3-none-any.whl (10 kB)\n",
      "Using cached certifi-2024.6.2-py3-none-any.whl (164 kB)\n",
      "Using cached charset_normalizer-3.3.2-cp310-cp310-win_amd64.whl (100 kB)\n",
      "Using cached grpcio-1.64.1-cp310-cp310-win_amd64.whl (4.1 MB)\n",
      "Using cached grpcio_status-1.62.2-py3-none-any.whl (14 kB)\n",
      "Using cached idna-3.7-py3-none-any.whl (66 kB)\n",
      "Using cached pyasn1-0.6.0-py2.py3-none-any.whl (85 kB)\n",
      "Using cached pyparsing-3.1.2-py3-none-any.whl (103 kB)\n",
      "Downloading urllib3-2.2.2-py3-none-any.whl (121 kB)\n",
      "   ---------------------------------------- 0.0/121.4 kB ? eta -:--:--\n",
      "   ------------------------------------- -- 112.6/121.4 kB 3.3 MB/s eta 0:00:01\n",
      "   ---------------------------------------- 121.4/121.4 kB 2.4 MB/s eta 0:00:00\n",
      "Installing collected packages: urllib3, uritemplate, tqdm, pyparsing, pydantic-core, pyasn1, protobuf, idna, grpcio, charset-normalizer, certifi, cachetools, annotated-types, rsa, requests, pydantic, pyasn1-modules, proto-plus, httplib2, googleapis-common-protos, grpcio-status, google-auth, google-auth-httplib2, google-api-core, google-api-python-client, google-ai-generativelanguage, google-generativeai\n",
      "Successfully installed annotated-types-0.7.0 cachetools-5.3.3 certifi-2024.6.2 charset-normalizer-3.3.2 google-ai-generativelanguage-0.6.4 google-api-core-2.19.0 google-api-python-client-2.133.0 google-auth-2.30.0 google-auth-httplib2-0.2.0 google-generativeai-0.6.0 googleapis-common-protos-1.63.1 grpcio-1.64.1 grpcio-status-1.62.2 httplib2-0.22.0 idna-3.7 proto-plus-1.23.0 protobuf-4.25.3 pyasn1-0.6.0 pyasn1-modules-0.4.0 pydantic-2.7.4 pydantic-core-2.18.4 pyparsing-3.1.2 requests-2.32.3 rsa-4.9 tqdm-4.66.4 uritemplate-4.1.1 urllib3-2.2.2\n"
     ]
    }
   ],
   "source": [
    "# !pip install google-generativeai"
   ]
  },
  {
   "cell_type": "markdown",
   "metadata": {},
   "source": [
    "# OCR"
   ]
  },
  {
   "cell_type": "code",
   "execution_count": 2,
   "metadata": {},
   "outputs": [
    {
     "name": "stderr",
     "output_type": "stream",
     "text": [
      "d:\\FPTU\\AskPic-POC\\.venv\\lib\\site-packages\\tqdm\\auto.py:21: TqdmWarning: IProgress not found. Please update jupyter and ipywidgets. See https://ipywidgets.readthedocs.io/en/stable/user_install.html\n",
      "  from .autonotebook import tqdm as notebook_tqdm\n"
     ]
    }
   ],
   "source": [
    "import google.generativeai as genai"
   ]
  },
  {
   "cell_type": "code",
   "execution_count": 6,
   "metadata": {},
   "outputs": [
    {
     "name": "stdout",
     "output_type": "stream",
     "text": [
      "Uploaded file 'sample test' as: https://generativelanguage.googleapis.com/v1beta/files/yk238159u4uz\n"
     ]
    }
   ],
   "source": [
    "sample_file = genai.upload_file(path=\"images\\sample_3.png\",\n",
    "                            display_name=\"sample test\")\n",
    "\n",
    "print(f\"Uploaded file '{sample_file.display_name}' as: {sample_file.uri}\")"
   ]
  },
  {
   "cell_type": "code",
   "execution_count": 7,
   "metadata": {},
   "outputs": [
    {
     "name": "stdout",
     "output_type": "stream",
     "text": [
      "Retrieved file 'sample test' as: https://generativelanguage.googleapis.com/v1beta/files/yk238159u4uz\n"
     ]
    }
   ],
   "source": [
    "file = genai.get_file(name=sample_file.name)\n",
    "print(f\"Retrieved file '{file.display_name}' as: {sample_file.uri}\")"
   ]
  },
  {
   "cell_type": "code",
   "execution_count": 8,
   "metadata": {},
   "outputs": [
    {
     "name": "stdout",
     "output_type": "stream",
     "text": [
      "16. Please give me some **recommendation** to buy suitable books for my ten-year-old girl.\n",
      "    A. advice        **B. defense**        C. interest          D. question\n",
      "\n",
      "17. In some countries, guests tend to feel they are not highly **regarded** if the invitation to a dinner party is extended only three or four days before the party date.\n",
      "    A. admired        B. worshipped       **C. expected**        D. disrespected\n",
      "\n",
      "18. Parents blame declining reading culture on the **mounting** pressure on the children in schools and tuition classes.\n",
      "    A. attentive       B. distracted          C. growing          **D. decreasing**\n",
      "\n",
      "19. Two hours are not long enough for this rest.\n",
      "    A. hours         B. are             **C. enough**         D. this\n",
      "\n",
      "20. The kids are really excited with going on holiday.\n",
      "    A. on             **B. really**          C. with              D. going\n",
      "\n",
      "21. More open discussions will be conducted online to help us do a good decision.\n",
      "   A. discussions    B. conducted        C. to help          **D. do**\n",
      "\n",
      "\n",
      "**Benefits of Laughter Yoga**\n",
      "\n",
      "Laughing is good for the body and the mind. When we laugh, we breathe more oxygen into our body, (**22. A. what**) helps to keep us healthy. Endorphins, or happy chemicals, are released in the body, and you feel more relaxed and happier. Laughter also brings people together to (**23.  C. offer**) some fun.\n",
      "\n",
      "Companies who have (**24. B. built**) laughter yoga workshops find that they have advantages for both employers and employees. People who are happy at work are more hard-working and make more money for the company. Also, people who can laugh together communicate more successfully. (**25. D. However**) , people do better at work when they feel happy and relaxed. \n",
      "\n",
      "A Danish company who used Laughter Yoga for (**26. C. much**) year reported an increase in sales of 40 percent over the previous year. Following Laughter Yoga session, a Hawaiian timeshare company reported the highest sales of the year - double their target figures. \n",
      "\n"
     ]
    }
   ],
   "source": [
    "model = genai.GenerativeModel(model_name=\"models/gemini-1.5-pro-latest\")\n",
    "\n",
    "response = model.generate_content([\"\"\"Perform OCR on this image\"\"\", sample_file])\n",
    "\n",
    "# Markdown(\">\" + response.text)\n",
    "\n",
    "extracted_text = response.text\n",
    "\n",
    "print(extracted_text)"
   ]
  },
  {
   "cell_type": "code",
   "execution_count": 54,
   "metadata": {},
   "outputs": [
    {
     "name": "stdout",
     "output_type": "stream",
     "text": [
      "Deleted sample test.\n"
     ]
    }
   ],
   "source": [
    "genai.delete_file(sample_file.name)\n",
    "print(f'Deleted {sample_file.display_name}.')"
   ]
  },
  {
   "cell_type": "markdown",
   "metadata": {},
   "source": [
    "# QnA"
   ]
  },
  {
   "cell_type": "code",
   "execution_count": 19,
   "metadata": {},
   "outputs": [],
   "source": [
    "from langchain_core.prompts import ChatPromptTemplate, SystemMessagePromptTemplate, HumanMessagePromptTemplate\n",
    "from langchain_google_genai import GoogleGenerativeAI\n",
    "from langchain.chains import LLMChain\n",
    "from langchain_core.output_parsers import JsonOutputParser"
   ]
  },
  {
   "cell_type": "code",
   "execution_count": 36,
   "metadata": {},
   "outputs": [],
   "source": [
    "llm = GoogleGenerativeAI(model=\"gemini-1.5-pro\", api_key=GOOGLE_API_KEY, temperature=0)"
   ]
  },
  {
   "cell_type": "code",
   "execution_count": 37,
   "metadata": {},
   "outputs": [],
   "source": [
    "parser = JsonOutputParser()"
   ]
  },
  {
   "cell_type": "code",
   "execution_count": 38,
   "metadata": {},
   "outputs": [],
   "source": [
    "system_message_prompt_template = SystemMessagePromptTemplate.from_template(\"\"\"\n",
    "You are an expert in answering questions. Your task is to extract the questions from the following text and answer them.\n",
    "The given text might include redundant information, you must focus only on the questions.\n",
    "The questions must be answered in a clear and concise manner.\n",
    "You MUST ONLY respond a string using this format:\n",
    "    {{\n",
    "        \"response\": [\n",
    "            {{\n",
    "                \"question\": str,\n",
    "                \"answer\": str\n",
    "            }}\n",
    "            # repeat for each question\n",
    "        ]\n",
    "            \n",
    "    }}\n",
    "\"\"\")\n",
    "human_message_prompt_template = HumanMessagePromptTemplate.from_template(\"\"\"\n",
    "This is the text you need to extract questions from: {text}\n",
    "\"\"\")"
   ]
  },
  {
   "cell_type": "code",
   "execution_count": 39,
   "metadata": {},
   "outputs": [],
   "source": [
    "prompt_template = ChatPromptTemplate.from_messages(\n",
    "    [\n",
    "    system_message_prompt_template, human_message_prompt_template\n",
    "    ]\n",
    ")"
   ]
  },
  {
   "cell_type": "code",
   "execution_count": 50,
   "metadata": {},
   "outputs": [],
   "source": [
    "chain = prompt_template | llm | parser"
   ]
  },
  {
   "cell_type": "code",
   "execution_count": 51,
   "metadata": {},
   "outputs": [],
   "source": [
    "response = chain.invoke({\"text\": extracted_text})"
   ]
  },
  {
   "cell_type": "code",
   "execution_count": 52,
   "metadata": {},
   "outputs": [],
   "source": [
    "answers = response[\"response\"]"
   ]
  },
  {
   "cell_type": "code",
   "execution_count": 53,
   "metadata": {},
   "outputs": [
    {
     "data": {
      "text/plain": [
       "[{'question': 'Mark the letter A, B, C or D on your answer sheet to indicate the word whose underlined part differs from the other three in pronunciation in the following question.\\nA. m_u_lticultural B. _u_rban C. ad_u_lthood D. _s_culpture',\n",
       "  'answer': 'The answer is **D. _s_culpture**. The others are pronounced with the sound /ʌ/.'},\n",
       " {'question': 'Mark the letter A, B, C or D on your answer sheet to indicate the word whose underlined part differs from the other three in pronunciation in the following question.\\nA. fascinat_i_ng B. sc_i_ssors C. consc_i_ous D. cultural',\n",
       "  'answer': 'The answer is **B. sc_i_ssors**. The others are pronounced with the sound /ə/.'},\n",
       " {'question': 'Mark the letter A, B, C or D on your answer sheet to indicate the word that differs from the other three in the position of primary stress in the following question.\\nA. awareness B. profession C. picturesque D. occasion',\n",
       "  'answer': 'The answer is **C. picturesque**. The stress is on the first syllable for this word, while the others are stressed on the second syllable.'},\n",
       " {'question': 'Mark the letter A, B, C or D on your answer sheet to indicate the word that differs from the other three in the position of primary stress in the following question.\\nA. independent B. traditional C. application D. parabolic',\n",
       "  'answer': 'The answer is **D. parabolic**. The stress is on the second syllable for this word, while the others are stressed on the third syllable.'},\n",
       " {'question': 'Mark the letter A, B, C or D on your answer sheet to indicate the correct answer to the following question.\\nLet’s try to .................................. the tradition by celebrating our cultural heritage through annual festivals.\\nA. behave B. prevent C. achieve D. preserve',\n",
       "  'answer': \"The answer is **D. preserve**.  'Preserve' means to maintain something in its original or existing state.\"},\n",
       " {'question': 'Mark the letter A, B, C or D on your answer sheet to indicate the correct answer to the following question.\\nMum bought some beautiful pottery vases .................................... we arrived at Bat Trang village.\\nA. even though B. therefore C. as soon as D. in order',\n",
       "  'answer': 'The answer is **C. as soon as**. This option correctly indicates the time relationship between the two events.'},\n",
       " {'question': 'Mark the letter A, B, C or D on your answer sheet to indicate the correct answer to the following question.',\n",
       "  'answer': 'This question is incomplete and needs more context or the actual question to be answered.'}]"
      ]
     },
     "execution_count": 53,
     "metadata": {},
     "output_type": "execute_result"
    }
   ],
   "source": [
    "answers"
   ]
  },
  {
   "cell_type": "code",
   "execution_count": null,
   "metadata": {},
   "outputs": [],
   "source": []
  }
 ],
 "metadata": {
  "kernelspec": {
   "display_name": ".venv",
   "language": "python",
   "name": "python3"
  },
  "language_info": {
   "codemirror_mode": {
    "name": "ipython",
    "version": 3
   },
   "file_extension": ".py",
   "mimetype": "text/x-python",
   "name": "python",
   "nbconvert_exporter": "python",
   "pygments_lexer": "ipython3",
   "version": "3.10.0"
  }
 },
 "nbformat": 4,
 "nbformat_minor": 2
}
